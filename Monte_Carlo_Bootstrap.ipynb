{
 "cells": [
  {
   "cell_type": "markdown",
   "id": "5e7683ea",
   "metadata": {},
   "source": [
    "# Bootstrapping with Python\n",
    "\n",
    "This notebook introduces you to the bootstrapping method, which can be used to estimate statistics such as the expected value or the confidence intervals. In the bootstrapping method, the observed data is used to create a sample from which the desired statistic is calculated. Then, this process is repeated in order to determine the quantity of interest from the replications.   \n",
    "\n",
    "We'll start by reviewing Monte Carlo simulation because it is closely related to the bootstrapping method. The main difference is that in the Monte Carlo method, the simulated samples are drawn from a known distribution. Otherwise, the methods follow the same steps. \n",
    "\n",
    "After discussing the Monte Carlo method, we'll explore two different bootstrapping techniques: _the iid bootstrap_ and _the circular block bootstrap_, showing an example of each in Python. We use the bootstrapping techniques to estimate the confidence interval of the performance metric AUC (Area Under the Curve). \n",
    "\n",
    "## Monte Carlo simulation method\n",
    "\n",
    "The Monte Carlo simulation method follows the steps:\n",
    "1. Generate a sample from a known distribution.\n",
    "2. Calculate the statistic of interest.\n",
    "3. Repeat steps 1 and 2 to create the distribution of the statistic.\n",
    "4. Estimate the quatity of interest from the distribution.\n",
    "\n",
    "More formally, let's say we assume that a random variable $X$ comes from a normal distribution, or $X \\sim \\mathcal{N}(\\mu,\\,\\sigma^{2})$. Thus, we simulate a sample of $X$ with $N$ values that are normaly distributed: $x_1, x_2,..., x_n$. \n",
    "\n",
    "Then, we calculate the value of the function $g(X)$ using the sample.\n",
    "\n",
    "We repeat the process of generating samples and calculating function values $n$ times. Thus, we get $g_1, g_2,..., g_n$.\n",
    "\n",
    "Finally, we estimate the quantity of interest. For example, the expected value of the function $\\frac{1}{n} \\Sigma \\, g(X)$.\n",
    "\n",
    "### Why simulate? And what can go wrong?\n",
    "\n",
    "Simulations are great for solving problems where the distribution of the desired statistic is unknown or where the system is too complex for analytical solutions. However, if the data generation process does not adequately describe the problem at hand, then the results of the simulation may be unreliable. Specifying the data generation process is typically one of the biggest challenges when using simulations.\n",
    "\n",
    "An important factor to consider is the computational cost. Running many complex simulations can be very time-consuming and may limit an analyst's ability to assess the assumed specification. Therefore, simulations should be preferred only when analytical expressions are not available.\n",
    "\n",
    "## Bootstrapping\n",
    "\n",
    "In contrast to the Monte Carlo approach, the bootstrapping method uses directly the observed data to create simulated samples. It does not make assumptions about the distribution, thus the only thing that is being simulated is the choice of observations to construct samples.   \n",
    "\n",
    "### iid bootstrap\n",
    "\n",
    "In the idd bootstrap, samples are created by drawing with replacement (i.e. an observation can occur multiple times in a sample) from the observed data. \n",
    "\n",
    "For example, if we have observed data $x_1, x_2,..., x_{20}$ and we want to create 5 samples with 4 observations each, the samples can look like the following:\n",
    "\n",
    "| Sample 1 | Sample 2 | Sample 3 | Sample 4 | Sample 5 |\n",
    "| -------- | -------- | -------- | -------- | -------- |\n",
    "| $x_1$    | $x_2$    | $x_2$    | $x_1$    | $x_4$    |\n",
    "| $x_3$    | $x_6$    | $x_9$    | $x_5$    | $x_{10}$ |\n",
    "| $x_{12}$ | $x_{17}$ | $x_{17}$ | $x_7$    | $x_{11}$ |\n",
    "| $x_3$    | $x_{19}$ | $x_{18}$ | $x_{13}$ | $x_{20}$ |\n",
    "\n",
    "In the example, the observation $x_3$ is repeated twice in the sample 1 and the samples 2 and 3 overlap. This can be expected when samples are created with replacement. \n",
    "\n",
    "### circular block bootstrap\n",
    "\n",
    "The idd method is an appropriate choice, when observations are independent. If there's dependence, for example across time, more sophisticated methods are needed.\n",
    "\n",
    "The circular block bootstrap (CBB) samples blocks with replacement, instead of sampling a single observation, so that the blocks contain consecutive observations. For example, if we have observed data $x_1, x_2,..., x_{10}$, the size of a block is 6, and the number of blocks is also 6, the samples look the following:\n",
    "\n",
    "| Sample 1 | Sample 2 | Sample 3 | Sample 4 | Sample 5 | Sample 6 |\n",
    "| -------- | -------- | -------- | -------- | -------- | -------- |\n",
    "| $x_1$    | $x_2$    | $x_3$    | $x_4$    | $x_5$    | $x_6$    |\n",
    "| $x_2$    | $x_3$    | $x_4$    | $x_5$    | $x_6$    | $x_7$    |\n",
    "| $x_3$    | $x_4$    | $x_5$    | $x_6$    | $x_7$    | $x_8$    |\n",
    "| $x_4$    | $x_5$    | $x_6$    | $x_7$    | $x_8$    | $x_9$    |\n",
    "| $x_5$    | $x_6$    | $x_7$    | $x_8$    | $x_9$    | $x_{10}$ |\n",
    "| $x_6$    | $x_7$    | $x_8$    | $x_9$    | $x_{10}$ | $x_1$    |\n",
    "\n",
    "The final block wraps around as if the 1st observation occurs after the 10th observation.\n",
    "\n",
    "The block size should be large enough to capture the dependence, but on the other hand it cannot be too large in order that the number of blocks is sufficient. The recommended size of a block is $\\sqrt{n}$, where $n$ is the size of the observed data.\n",
    "\n",
    "### Python example\n",
    "\n",
    "In this Python example, we calculate the confidence interval for the AUC metric that is often used as a peformance metric for statistical models predicting default risk. We use both the iid method and the CBB method to calculate the confidence interval.\n",
    "\n",
    "The data at hand is a training sample from a modeling project, containing default risk predictions for consumers (see _id_ in the data) and information on whether or not a consumer defaulted within 12 months from the prediction.  \n",
    "\n",
    "#### Load packages and data\n",
    "\n",
    "We load the packages needed for data handling and simulation, and then we import the data and make the necessary corrections to the data types of the columns.\n"
   ]
  },
  {
   "cell_type": "code",
   "execution_count": 52,
   "id": "f6956e59",
   "metadata": {},
   "outputs": [],
   "source": [
    "import numpy as np\n",
    "import matplotlib.pyplot as plt\n",
    "import pandas as pd\n",
    "import random\n",
    "from sklearn.metrics import roc_auc_score\n",
    "import seaborn as sns\n",
    "import itertools\n",
    "\n",
    "# Set seed\n",
    "np.random.seed(123)\n",
    "\n",
    "# Import data\n",
    "dt = pd.read_csv('predictions.csv',sep=';')\n",
    "\n",
    "# Check data types \n",
    "# df.info()\n",
    "\n",
    "# Correct columns\n",
    "dt['pred_value'] = dt['pred_value'].str.replace(',','.')\n",
    "dt['pred_value'] = pd.to_numeric(dt['pred_value'])\n",
    "\n",
    "# Suffle data\n",
    "random_order = np.random.choice(range(0,len(dt)),size=len(dt),replace=False)\n",
    "df = dt.iloc[random_order]\n"
   ]
  },
  {
   "cell_type": "markdown",
   "id": "5f37db31",
   "metadata": {},
   "source": [
    "#### Data exploration\n",
    "\n",
    "We have 125 839 consumers with the average default rate of 0.9568 %."
   ]
  },
  {
   "cell_type": "code",
   "execution_count": 39,
   "id": "2f3378b2",
   "metadata": {},
   "outputs": [
    {
     "data": {
      "text/plain": [
       "count    125839.000000\n",
       "mean          0.009568\n",
       "std           0.097346\n",
       "min           0.000000\n",
       "25%           0.000000\n",
       "50%           0.000000\n",
       "75%           0.000000\n",
       "max           1.000000\n",
       "Name: vaste_12kk, dtype: float64"
      ]
     },
     "execution_count": 39,
     "metadata": {},
     "output_type": "execute_result"
    }
   ],
   "source": [
    "df.vaste_12kk.describe()"
   ]
  },
  {
   "cell_type": "markdown",
   "id": "a51fa714",
   "metadata": {},
   "source": [
    "#### Confidence interval with the iid method \n",
    "\n",
    "We use the iid method to construct samples from the observed data. Before drawing samples, we set the seed to ensure the results can be replicated afterwards. Then, the sample size and the number of samples are determined. Finally, a for loop is used to generate the samples and calculate the AUC metric for each iteration."
   ]
  },
  {
   "cell_type": "code",
   "execution_count": 53,
   "id": "377a7a0e",
   "metadata": {},
   "outputs": [],
   "source": [
    "# Save the resulting metrics to a vector\n",
    "res_auc = []\n",
    "\n",
    "# Determine the sample size and the number of samples\n",
    "sample_size = 20000\n",
    "sample_N = 1000\n",
    "\n",
    "# For loop to simulate\n",
    "\n",
    "for i in range(sample_N):\n",
    "    \n",
    "    # Generate random numbers that indicate the row numbers of the observed data. Then \n",
    "    # a bootstrap sample is created by filtering the observed data using the random row numbers.\n",
    "\n",
    "    selected_rows = np.random.choice(range(0,len(df)),size=sample_size,replace=True)\n",
    "\n",
    "    bootstrap_sample = df.iloc[selected_rows]\n",
    "\n",
    "    # Calculate AUC from the bootstrap sample\n",
    "    res = roc_auc_score(bootstrap_sample.vaste_12kk, bootstrap_sample.pred_value)\n",
    "\n",
    "    res_auc.append(res)"
   ]
  },
  {
   "cell_type": "markdown",
   "id": "a866372a",
   "metadata": {},
   "source": [
    "Next we estimate the confidence interval for the AUC metric from the bootstrap distribution. The plot below shows the bootstrap distribution is symmetric, indicating that estimating the confidence interval using percentiles of the bootstrap distribution is appropriate. "
   ]
  },
  {
   "cell_type": "code",
   "execution_count": 54,
   "id": "166283a0",
   "metadata": {},
   "outputs": [
    {
     "data": {
      "text/plain": [
       "Text(0, 0.5, 'Density')"
      ]
     },
     "execution_count": 54,
     "metadata": {},
     "output_type": "execute_result"
    },
    {
     "data": {
      "image/png": "[encoded data removed]",
      "text/plain": [
       "<Figure size 432x288 with 1 Axes>"
      ]
     },
     "metadata": {
      "needs_background": "light"
     },
     "output_type": "display_data"
    }
   ],
   "source": [
    "sns.kdeplot(res_auc, shade=True)\n",
    "\n",
    "plt.title('Bootstrap distribution of the AUC metric')\n",
    "plt.xlabel('AUC')\n",
    "plt.ylabel('Density')"
   ]
  },
  {
   "cell_type": "code",
   "execution_count": 55,
   "id": "8e40fd7f",
   "metadata": {},
   "outputs": [
    {
     "data": {
      "text/plain": [
       "array([0.93321873, 0.95971711])"
      ]
     },
     "execution_count": 55,
     "metadata": {},
     "output_type": "execute_result"
    }
   ],
   "source": [
    "# 95 % confidence interval\n",
    "np.percentile(res_auc, [2.5, 97.5])"
   ]
  },
  {
   "cell_type": "markdown",
   "id": "da8e83e8",
   "metadata": {},
   "source": [
    "#### Confidence interval with the CBB method \n",
    "\n",
    "Now we use the CBB method to construct samples from the observed data."
   ]
  },
  {
   "cell_type": "code",
   "execution_count": 56,
   "id": "091daeab",
   "metadata": {},
   "outputs": [],
   "source": [
    "# Save the resulting metrics to a vector\n",
    "res_auc = []\n",
    "\n",
    "# First we used the recommended block size which is the square root of the size of the observed data\n",
    "# block_size = int(np.round(np.sqrt(len(df)),0))\n",
    "# However, we got several bootstrap samples that had only 0 values and so calculating the AUC wasn't possible\n",
    "# Thus, the block size was increased to 1000.  \n",
    "\n",
    "# Determine the block size and the number of samples\n",
    "block_size = 1000\n",
    "sample_N = 15000\n",
    "observed_data_N = len(df)\n",
    "\n",
    "# Generate blocks \n",
    "cbb_blocks = []\n",
    "\n",
    "for i in range(1,sample_N):\n",
    "    \n",
    "    start_point = i % observed_data_N # Modulo\n",
    "    end_point = np.absolute(observed_data_N-start_point)\n",
    "    \n",
    "    if start_point == 0:\n",
    "        block = itertools.chain(range(observed_data_N,observed_data_N+1), range(1,block_size))\n",
    "    elif start_point+block_size < observed_data_N:\n",
    "        block = itertools.chain(range(start_point,start_point+block_size))\n",
    "    else:\n",
    "        # Start recycling values \n",
    "        block = itertools.chain(range(start_point,observed_data_N+1), range(1,block_size-end_point))\n",
    "        \n",
    "    cbb_blocks.append(list(block))\n",
    "    \n",
    "# To be further developed in the code:\n",
    "# 1) The code does not take into account that the indexing is started at 0 in Python.\n",
    "# 2) Not possible to set sample_N greater to observed_data_N.\n",
    "        "
   ]
  },
  {
   "cell_type": "code",
   "execution_count": 57,
   "id": "64fdfc28",
   "metadata": {},
   "outputs": [],
   "source": [
    "# Save results in this\n",
    "res_auc = []\n",
    "\n",
    "# For loop to simulate\n",
    "for i in range(sample_N-1):\n",
    "    \n",
    "    bootstrap_sample = df.iloc[cbb_blocks[i]]\n",
    "\n",
    "    # Calculate AUC from the bootstrap sample\n",
    "    res = roc_auc_score(bootstrap_sample.vaste_12kk, bootstrap_sample.pred_value)\n",
    "    res_auc.append(res)"
   ]
  },
  {
   "cell_type": "code",
   "execution_count": 58,
   "id": "1628ebae",
   "metadata": {},
   "outputs": [
    {
     "data": {
      "text/plain": [
       "Text(0, 0.5, 'Density')"
      ]
     },
     "execution_count": 58,
     "metadata": {},
     "output_type": "execute_result"
    },
    {
     "data": {
      "image/png": "[encoded data removed]",
      "text/plain": [
       "<Figure size 432x288 with 1 Axes>"
      ]
     },
     "metadata": {
      "needs_background": "light"
     },
     "output_type": "display_data"
    }
   ],
   "source": [
    "sns.kdeplot(res_auc, shade=True)\n",
    "\n",
    "plt.title('Bootstrap distribution of the AUC metric')\n",
    "plt.xlabel('AUC')\n",
    "plt.ylabel('Density')"
   ]
  },
  {
   "cell_type": "code",
   "execution_count": 59,
   "id": "111cbfcb",
   "metadata": {},
   "outputs": [
    {
     "data": {
      "text/plain": [
       "array([0.87972594, 0.99203947])"
      ]
     },
     "execution_count": 59,
     "metadata": {},
     "output_type": "execute_result"
    }
   ],
   "source": [
    "# 95 % confidence interval\n",
    "np.percentile(res_auc, [2.5, 97.5])"
   ]
  },
  {
   "cell_type": "markdown",
   "id": "249fe221",
   "metadata": {},
   "source": [
    "The wavy nature of the curve above shows how the circular block method is not suitable for the problem at hand. Some AUC values are more likely or common than others. This is due to the method the blocks are created. The AUC value does not change much, if at all, when one observation is removed and another is added compared to the last block. Furthermore, if the same blocks appear multiple times, this also makes some AUC values more likely than others. In other words, the circular block methods captures the data structure, which is not desired in AUC calculations. "
   ]
  },
  {
   "cell_type": "code",
   "execution_count": 60,
   "id": "4ab55fa0",
   "metadata": {},
   "outputs": [
    {
     "data": {
      "image/png": "[encoded data removed]",
      "text/plain": [
       "<Figure size 576x432 with 1 Axes>"
      ]
     },
     "metadata": {
      "needs_background": "light"
     },
     "output_type": "display_data"
    }
   ],
   "source": [
    "# To examine the response variable in bootstrap samples\n",
    "x = df.iloc[cbb_blocks[0]].pred_value\n",
    "y = df.iloc[cbb_blocks[0]].vaste_12kk\n",
    "\n",
    "plt.figure(figsize=(8, 6))\n",
    "plt.scatter(x, y, marker='o', color='b')\n",
    "\n",
    "plt.xlabel('Predicted value')\n",
    "plt.ylabel('Response variable')\n",
    "plt.grid(True)"
   ]
  },
  {
   "cell_type": "code",
   "execution_count": 61,
   "id": "3f6fa413",
   "metadata": {},
   "outputs": [
    {
     "data": {
      "image/png": "[encoded data removed]",
      "text/plain": [
       "<Figure size 576x432 with 1 Axes>"
      ]
     },
     "metadata": {
      "needs_background": "light"
     },
     "output_type": "display_data"
    }
   ],
   "source": [
    "# To examine the AUC values over the bootstrap samples\n",
    "x = res_auc\n",
    "\n",
    "plt.figure(figsize=(8, 6))\n",
    "plt.plot(x, marker='o', color='b')\n",
    "\n",
    "plt.xlabel('Bootstrap sample')\n",
    "plt.ylabel('AUC')\n",
    "plt.grid(True)"
   ]
  },
  {
   "cell_type": "markdown",
   "id": "60dbb7be",
   "metadata": {},
   "source": [
    "### Conclusions\n",
    "\n",
    "The example shows that the iid method is more suitable for the problem at hand than the circular block method, since there is no dependence between the observations.\n",
    "\n",
    "## Reference\n",
    "\n",
    "https://en.wikipedia.org/wiki/Bootstrapping_(statistics)\n",
    "\n",
    "FRM: Quantitative Analysis by Global Association of Risk Professionals"
   ]
  },
  {
   "cell_type": "code",
   "execution_count": null,
   "id": "8cf382d6",
   "metadata": {},
   "outputs": [],
   "source": []
  },
  {
   "cell_type": "code",
   "execution_count": null,
   "id": "24bcd08e",
   "metadata": {},
   "outputs": [],
   "source": []
  }
 ],
 "metadata": {
  "kernelspec": {
   "display_name": "Python 3 (ipykernel)",
   "language": "python",
   "name": "python3"
  },
  "language_info": {
   "codemirror_mode": {
    "name": "ipython",
    "version": 3
   },
   "file_extension": ".py",
   "mimetype": "text/x-python",
   "name": "python",
   "nbconvert_exporter": "python",
   "pygments_lexer": "ipython3",
   "version": "3.9.7"
  }
 },
 "nbformat": 4,
 "nbformat_minor": 5
}
